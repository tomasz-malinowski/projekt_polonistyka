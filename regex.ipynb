{
 "cells": [
  {
   "cell_type": "code",
   "execution_count": 1,
   "metadata": {},
   "outputs": [],
   "source": [
    "import pandas as pd\n",
    "import numpy as np\n",
    "from matplotlib import pyplot as plt"
   ]
  },
  {
   "cell_type": "code",
   "execution_count": null,
   "metadata": {},
   "outputs": [],
   "source": []
  },
  {
   "cell_type": "code",
   "execution_count": null,
   "metadata": {},
   "outputs": [],
   "source": [
    "data = pd.read_excel('Rzeczpospolita 2015-2022.xlsx')\n",
    "data.head()"
   ]
  },
  {
   "cell_type": "code",
   "execution_count": 75,
   "metadata": {},
   "outputs": [
    {
     "data": {
      "text/plain": [
       "'Maszyna wystartowała kilkanaście minut po 7 rano (czasu lokalnego) z lotniska w Abu Zabi, stolicy Zjednoczonych Emiratów Arabskich. Lądowała już po zmierzchu na lotnisku w Muskacie w Omanie. „Jutro lecimy do Indii!\" - radośnie obwieścili na Twitterze członkowie zespołu. Rozpoczęcie drugiego etapu planowany jest na 6 rano miejscowego czasu we wtorek.Za sterami jednomiejscowego samolotu siedział André Borschberg, przedsiębiorca, i pilot myśliwca. Borschberg wraz z Bertrandem Piccardem jest inicjatorem projektu podróży wokół globu samolotem bez grama paliwa.Lot planowany był na sobotę, ale przeszkodziła temu pogoda. Bardzo silny wiatr wiejący nad lotniskiem.Ćwiczenie snuW podróży dookoła świata piloci będą się zmieniać. Piccard, choć nie jest zawodowym pilotem, jest doświadczonym lotnikiem, posiadaczem kilku rekordów. Jako pierwszy człowiek w 1999 roku obleciał Ziemię balonem. To on ma pilotować Solar Impulse 2 podczas lotu do Indii.Piloci chcą popularyzować ideę zastąpienia technologii zanieczyszczających środowisko czystymi i wydajnymi.– Demonstrujemy coś, co wydawało się niemożliwe do osiągnięcia z użyciem jedynie odnawialnej energii i czystych technologii – powiedział Bernard Piccard. – 100 lat temu bracia Wright mieli wielu krytyków, którzy twierdzili, że samolot wykonany z drewna i tkaniny nie ma przyszłości. Potem byli tacy, którzy twierdzili, że nie będzie przewoził pasażerów ponad oceanami. Cóż, dziś widzimy, co się stało.Solar Impulse 2 jest większą wersją prototypu, który dziewiczy lot odbył pięć lat temu. Pierwszy Solar Impulse był zupełnie nowatorską konstrukcją, która sprawdziła się w lotach nad kontynentami i morzami.W 2010 roku, z André Borschbergiem za sterami, samolot przebywał w powietrzu \\u202826 godzin i udowodnił, że może latać nawet wtedy, gdy energia pochodzi wyłącznie z akumulatorów. Maszyna pobiła siedem rekordów świata m.in. wysokości, odległości i długości lotu bez wykorzystania paliwa.Jego następca Solar Impulse 2 został skonstruowany z wykorzystaniem włókien węglowych. Na skrzydłach umieszczone zostały panele słoneczne nowej generacji – cieńsze i bardziej wydajne.Budowa samolotu ukończona została w kwietniu ub. roku, a dziewiczy dwugodzinny lot odbył w czerwcu.Piloci ćwiczyli w symulatorze. Doskonalili umiejętność sterowania maszyną, wzmacniali odporność na zmęczenie. Sesje w symulatorze trwające po kilkanaście godzin obejmowały naukę technik medytacyjnych i snu polifazowego. Jeden z programów ćwiczeń zakładał lot pięciodniowy ze snem trwającym dwie godziny na dobę, podzielonym na okresy 20-minutowe.Następnym celem będą Indie. Tam przewidziane są dwa przystanki. Następnie samolot poleci do Chin i Birmy. Kolejnym etapem będzie skok nad Pacyfikiem i lądowanie na Hawajach w USA. Później celem podróży będzie Phoenix w Arizonie oraz największe lotnisko w Nowym Jorku – port im. Johna F. Kennedy\\'ego.Dla klimatuPodróż Solar Impulse 2 potrwa kilka miesięcy. Największym wyzwaniem będą odcinki nad oceanami. Wymagać będą od maszyny i pilotów maksymalnego wysiłku, pięciu lub sześciu dni i nocy za sterami.– Skok przez Pacyfik będzie łatwy. Okienko, kiedy będą najlepsze warunki, pojawi się 2 maja – powiedział BBC News Raymond Clerc, dyrektor programu. – Ale oczekiwanie na warunki nad Atlantykiem może potrwać nawet 30 dni.Trasa przez Atlantyk będzie zależeć od pogody, i to warunki atmosferyczne zadecydują, czy celem stanie się lotnisko w południowej Europie, np. Sewilla w Hiszpanii, czy też jakiś port w Maroku. Ostatnim etapem będzie Abu Zabi, gdzie samolot dotrze w lipcu lub sierpniu. Borschberg i Piccard chcą wywrzeć nacisk na polityków i zamanifestować poparcie dla porozumienia, które oczekiwane jest na Konferencji Klimatycznej ONZ w grudniu 2015 roku w Paryżu.'"
      ]
     },
     "execution_count": 75,
     "metadata": {},
     "output_type": "execute_result"
    }
   ],
   "source": [
    "data.text[4]"
   ]
  },
  {
   "cell_type": "code",
   "execution_count": 76,
   "metadata": {},
   "outputs": [],
   "source": [
    "data_test = data['text']"
   ]
  },
  {
   "cell_type": "code",
   "execution_count": 77,
   "metadata": {},
   "outputs": [],
   "source": [
    "import nltk"
   ]
  },
  {
   "cell_type": "code",
   "execution_count": 78,
   "metadata": {},
   "outputs": [
    {
     "name": "stdout",
     "output_type": "stream",
     "text": [
      "['i', 'me', 'my', 'myself', 'we', 'our', 'ours', 'ourselves', 'you', \"you're\", \"you've\", \"you'll\", \"you'd\", 'your', 'yours', 'yourself', 'yourselves', 'he', 'him', 'his', 'himself', 'she', \"she's\", 'her', 'hers', 'herself', 'it', \"it's\", 'its', 'itself', 'they', 'them', 'their', 'theirs', 'themselves', 'what', 'which', 'who', 'whom', 'this', 'that', \"that'll\", 'these', 'those', 'am', 'is', 'are', 'was', 'were', 'be', 'been', 'being', 'have', 'has', 'had', 'having', 'do', 'does', 'did', 'doing', 'a', 'an', 'the', 'and', 'but', 'if', 'or', 'because', 'as', 'until', 'while', 'of', 'at', 'by', 'for', 'with', 'about', 'against', 'between', 'into', 'through', 'during', 'before', 'after', 'above', 'below', 'to', 'from', 'up', 'down', 'in', 'out', 'on', 'off', 'over', 'under', 'again', 'further', 'then', 'once', 'here', 'there', 'when', 'where', 'why', 'how', 'all', 'any', 'both', 'each', 'few', 'more', 'most', 'other', 'some', 'such', 'no', 'nor', 'not', 'only', 'own', 'same', 'so', 'than', 'too', 'very', 's', 't', 'can', 'will', 'just', 'don', \"don't\", 'should', \"should've\", 'now', 'd', 'll', 'm', 'o', 're', 've', 'y', 'ain', 'aren', \"aren't\", 'couldn', \"couldn't\", 'didn', \"didn't\", 'doesn', \"doesn't\", 'hadn', \"hadn't\", 'hasn', \"hasn't\", 'haven', \"haven't\", 'isn', \"isn't\", 'ma', 'mightn', \"mightn't\", 'mustn', \"mustn't\", 'needn', \"needn't\", 'shan', \"shan't\", 'shouldn', \"shouldn't\", 'wasn', \"wasn't\", 'weren', \"weren't\", 'won', \"won't\", 'wouldn', \"wouldn't\"]\n"
     ]
    }
   ],
   "source": [
    "print(stopwords.words('english'))"
   ]
  },
  {
   "cell_type": "code",
   "execution_count": 79,
   "metadata": {},
   "outputs": [
    {
     "name": "stdout",
     "output_type": "stream",
     "text": [
      "['arabic', 'azerbaijani', 'basque', 'bengali', 'catalan', 'chinese', 'danish', 'dutch', 'english', 'finnish', 'french', 'german', 'greek', 'hebrew', 'hinglish', 'hungarian', 'indonesian', 'italian', 'kazakh', 'nepali', 'norwegian', 'portuguese', 'romanian', 'russian', 'slovene', 'spanish', 'swedish', 'tajik', 'turkish']\n"
     ]
    }
   ],
   "source": [
    "print(stopwords.fileids())"
   ]
  },
  {
   "cell_type": "code",
   "execution_count": 80,
   "metadata": {},
   "outputs": [],
   "source": [
    "import regex as re\n",
    "from nltk.corpus import stopwords\n",
    "REPLACE_BY_SPACE_RE = re.compile('[/(){}\\[\\]\\|@,;0-9\\.\\-\\'(\\xa0)]')\n",
    "BAD_SYMBOLS_RE = re.compile('[^AaĄąBbCcĆćDdEeĘęFfGgHhIiJjKkLlŁłMmNnŃńOoÓóPpRrSsŚśTtUuWwYyZzŹźŻż ]')\n",
    "STOPWORDS = set(stopwords.words('english'))\n",
    "stopwords.words()\n",
    "\n",
    "def clean_text(text):\n",
    "    text = text.lower() # lowercase text\n",
    "    text = REPLACE_BY_SPACE_RE.sub(' ', text) # replace REPLACE_BY_SPACE_RE symbols by space in text\n",
    "    text = BAD_SYMBOLS_RE.sub('', text) # delete symbols which are in BAD_SYMBOLS_RE from text\n",
    "    text = ' '.join(word for word in text.split() if word not in STOPWORDS) # delete stopwors from text\n",
    "    return text"
   ]
  },
  {
   "cell_type": "code",
   "execution_count": 81,
   "metadata": {},
   "outputs": [],
   "source": [
    "data_test = data_test.apply(clean_text)"
   ]
  },
  {
   "cell_type": "code",
   "execution_count": 82,
   "metadata": {},
   "outputs": [],
   "source": [
    "data_test.to_csv('preprocessed.csv')"
   ]
  },
  {
   "cell_type": "code",
   "execution_count": 83,
   "metadata": {},
   "outputs": [
    {
     "data": {
      "text/plain": [
       "'Technika | Niezwykły śmigłowy samolot zasilany wyłącznie energią słoneczną okrąży kulę ziemską. Start już w lutym. Maszyna nazywa się Solar Impulse 2, zarejestrowana jest w Szwajcarii, ma numer identyfikacyjny S12. Przeszła pomyślnie kilka lotów testowych, o których informowała „Rzeczpospolita\". Teraz pora na wielki rejs.W jednoosobowym kokpicie na zmianę zasiadać będą Bertrand Piccard, wnuk Augusta Piccarda, wynalazcy m.in. batyskafu, który w 1960 roku pierwszy opuścił się na dno Rowu Mariańskiego, najgłębszego miejsca na ziemi, oraz Andre Borschberg. Obaj są autorami tego projektu.\\xa0 Ekipa naziemna projektu Solar Impulse liczy 80 osób.Nad Himalajami– To wielki moment w dziejach techniki. Po raz pierwszy w historii mamy maszynę, która bez grama paliwa może latać w dzień i w nocy – podkreśla Bertrand Piccard.Maszyna znajduje się teraz w ogromnym namiocie służącym jako hangar na lotnisku Al Bateen w Abu Zabi, stolicy Zjednoczonych Emiratów Arabskich. W najbliższych dniach przewidziane są dwa loty testowe, aby ostatecznie sprawdzić sprawność wszystkich urządzeń. Jeśli wypadną pomyślnie, start do rejsu wokół globu nastąpi 27 lutego, ale może być opóźniony o kilka dni z powodu złej pogody. Powrót do Abu Zabi nastąpi po pięciu miesiącach. W tym czasie przewidziano 25 dób lotu w 12 etapach, w sumie ponad 35 tys. kilometrów.Kokpit maszyny, przystosowany dla jednej osoby, nie jest hermetyczny. Dlatego pilot będzie korzystał z maski tlenowej, jeśli samolot wzniesie się na wysokość kilku kilometrów, na przykład lecąc z Indii do Chin nad Himalajami. Przewidywany pułap to 10 tys. metrów. Kokpit wyłożono pianką termoizolacyjną, co ma zapewnić znośne warunki w temperaturze wahającej się od -40 do +40 st. C.Kabina musi pomieścić zapas jedzenia, wody, tratwę na wypadek wodowania i inny sprzęt ratunkowy. Kokpit nie ma ogrzewania ani klimatyzacji – tyle energii baterie słoneczne nie dostarczą.Solar Impulse 2 nie powinien się przechylać bardziej niż o 5 stopni, ponieważ wtedy\\xa0 baterie słoneczne są dużo mniej wydajne. Piloci pracowali nad tym w symulatorze lotu. Gdyby jednak doszło do takiego przechyłu, na przykład w momencie gdy pilot śpi (lot nad Pacyfikiem będzie trwał pięć dób, 8500 km), włączylyby się automatycznie ostrzegawczy sygnał dźwiękowy. Poza tym w prowadzeniu samolotu pomocny będzie pilot automatyczny.Dłuższe od boeingaTrening pilotów w symulatorze szlifował umiejętność sterowania maszyną, wzmacniał odporność na zmęczenie. Sesje w symulatorze trwające po kilkanaście godzin obejmowały naukę technik medytacyjnych i snu polifazowego. Jeden z programów ćwiczeń zakładał lot pięciodniowy ze snem trwającym dwie godziny na dobę, podzielonym na okresy 20-minutowe.Samolot zbudowany został z włókien węglowych. Skrzydła rozpościerają się na 72 m, o 4 metry więcej niż skrzydła jumbo jeta – boeinga 747. Ale Solar Impulse 2 waży zaledwie jedną setną tego co boeing: 2300 kg – tyle co samochód.\\xa0 Na górnej powierzchni skrzydeł rozmieszczonych jest _x000b_17 tys. ogniw słonecznych, dostarczają energii czterem silnikom elektrycznym, a nadwyżka uzyskiwana za dnia jest magazynowana w akumulatorach litowych. Silniki napędzające śmigła pozwalają osiągnąć prędkość 140 km/h, ale praktycznie będzie to ok. 100 km/h. Aby wystartować, wystarczy prędkość 47 km/h. Solar Impulse 2 to udoskonalona wersja maszyny Solar Impulse, która wzniosła się w powietrze pięć lat temu.– Energia słoneczna, nawet jeśli nie jest energią przyszłości dla lotnictwa, jest do wykorzystania w dziedzinach, które na razie trudno nam sobie wyobrazić. Ale to, co Solar Impulse 2 potrafi osiągnąć w powietrzu, nie zużywać paliwa i nie wytwarzać spalin, można osiągnąć także na ziemi – podkreśla Andre Borschberg.'"
      ]
     },
     "execution_count": 83,
     "metadata": {},
     "output_type": "execute_result"
    }
   ],
   "source": [
    "data['text'][1]"
   ]
  },
  {
   "cell_type": "code",
   "execution_count": 84,
   "metadata": {
    "scrolled": true
   },
   "outputs": [
    {
     "data": {
      "text/plain": [
       "'technika niezwykły śmigłowy samolot zasilany wyłącznie energią słoneczną okrąży kulę ziemską start już w lutym maszyna nazywa się solar impulse zarejestrowana jest w szwajcarii numer identyfikacyjny przeszła pomyślnie kilka lotów testowych których informowała rzeczpospolita teraz pora na wielki rejs w jednoosobowym kokpicie na zmianę zasiadać będą bertrand piccard wnuk augusta piccarda wynalazcy batyskafu który w roku pierwszy opuścił się na dno rowu mariańskiego najgłębszego miejsca na ziemi oraz andre borschberg obaj są autorami tego projektu ekipa naziemna projektu solar impulse liczy osób nad himalajami wielki moment w dziejach techniki po raz pierwszy w historii mamy maszynę która bez grama paliwa może latać w dzień w nocy podkreśla bertrand piccard maszyna znajduje się teraz w ogromnym namiocie służącym jako hangar na lotnisku al bateen w abu zabi stolicy zjednoczonych emiratów arabskich w najbliższych dniach przewidziane są dwa loty testowe aby ostatecznie sprawdzić sprawność wszystkich urządzeń jeśli wypadną pomyślnie start rejsu wokół globu nastąpi lutego ale może być opóźniony kilka dni z powodu złej pogody powrót abu zabi nastąpi po pięciu miesiącach w tym czasie przewidziano dób lotu w etapach w sumie ponad tys kilometrów kokpit maszyny przystosowany dla jednej osoby nie jest hermetyczny dlatego pilot będzie korzystał z maski tlenowej jeśli samolot wzniesie się na wysokość kilku kilometrów na przykład lecąc z indii chin nad himalajami przewidywany pułap tys metrów kokpit wyłożono pianką termoizolacyjną co zapewnić znośne warunki w temperaturze wahającej się od st c kabina musi pomieścić zapas jedzenia wody tratwę na wypadek wodowania inny sprzęt ratunkowy kokpit nie ogrzewania ani klimatyzacji tyle energii baterie słoneczne nie dostarczą solar impulse nie powinien się przechylać bardziej niż stopni ponieważ wtedy baterie słoneczne są dużo mniej wydajne piloci pracowali nad tym w symulatorze lotu gdyby jednak doszło takiego przechyłu na przykład w momencie gdy pilot śpi lot nad pacyfikiem będzie trwał pięć dób km włączylyby się automatycznie ostrzegawczy sygnał dźwiękowy poza tym w prowadzeniu samolotu pomocny będzie pilot automatyczny dłuższe od boeingatrening pilotów w symulatorze szlifował umiejętność sterowania maszyną wzmacniał odporność na zmęczenie sesje w symulatorze trwające po kilkanaście godzin obejmowały naukę technik medytacyjnych snu polifazowego jeden z programów ćwiczeń zakładał lot pięciodniowy ze snem trwającym dwie godziny na dobę podzielonym na okresy minutowe samolot zbudowany został z włókien węglowych skrzydła rozpościerają się na metry więcej niż skrzydła jumbo jeta boeinga ale solar impulse waży zaledwie jedną setną tego co boeing kg tyle co samochód na górnej powierzchni skrzydeł rozmieszczonych jest b tys ogniw słonecznych dostarczają energii czterem silnikom elektrycznym nadwyżka uzyskiwana za dnia jest magazynowana w akumulatorach litowych silniki napędzające śmigła pozwalają osiągnąć prędkość km h ale praktycznie będzie ok km h aby wystartować wystarczy prędkość km h solar impulse udoskonalona wersja maszyny solar impulse która wzniosła się w powietrze pięć lat temu energia słoneczna nawet jeśli nie jest energią przyszłości dla lotnictwa jest wykorzystania w dziedzinach które na razie trudno nam sobie wyobrazić ale co solar impulse potrafi osiągnąć w powietrzu nie zużywać paliwa nie wytwarzać spalin można osiągnąć także na ziemi podkreśla andre borschberg'"
      ]
     },
     "execution_count": 84,
     "metadata": {},
     "output_type": "execute_result"
    }
   ],
   "source": [
    "data_test[1]"
   ]
  },
  {
   "cell_type": "code",
   "execution_count": 85,
   "metadata": {},
   "outputs": [
    {
     "data": {
      "text/plain": [
       "0    energetyka jest sprawą zbyt poważną aby decyzj...\n",
       "1    technika niezwykły śmigłowy samolot zasilany w...\n",
       "2    trzeba zachęcić związki zawodowe rozmów nowym ...\n",
       "3    unijna dyplomacja może być dźwignią realizacji...\n",
       "4    maszyna wystartowała kilkanaście minut po rano...\n",
       "Name: text, dtype: object"
      ]
     },
     "execution_count": 85,
     "metadata": {},
     "output_type": "execute_result"
    }
   ],
   "source": [
    "data_test.head()"
   ]
  }
 ],
 "metadata": {
  "kernelspec": {
   "display_name": "Python 3 (ipykernel)",
   "language": "python",
   "name": "python3"
  },
  "language_info": {
   "codemirror_mode": {
    "name": "ipython",
    "version": 3
   },
   "file_extension": ".py",
   "mimetype": "text/x-python",
   "name": "python",
   "nbconvert_exporter": "python",
   "pygments_lexer": "ipython3",
   "version": "3.9.16"
  },
  "vscode": {
   "interpreter": {
    "hash": "3a2be30295172717884411af564ad630433b1e83c9c4d3e12b02d716b3136821"
   }
  }
 },
 "nbformat": 4,
 "nbformat_minor": 2
}
