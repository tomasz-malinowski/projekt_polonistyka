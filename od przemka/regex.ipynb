{
 "cells": [
  {
   "cell_type": "code",
   "execution_count": 2,
   "metadata": {},
   "outputs": [],
   "source": [
    "import pandas as pd\n",
    "import numpy as np\n",
    "from matplotlib import pyplot as plt"
   ]
  },
  {
   "cell_type": "code",
   "execution_count": 3,
   "metadata": {},
   "outputs": [
    {
     "name": "stderr",
     "output_type": "stream",
     "text": [
      "/home/hombresabio/.conda/envs/tf/lib/python3.9/site-packages/openpyxl/worksheet/_reader.py:329: UserWarning: Unknown extension is not supported and will be removed\n",
      "  warn(msg)\n"
     ]
    },
    {
     "data": {
      "text/html": [
       "<div>\n",
       "<style scoped>\n",
       "    .dataframe tbody tr th:only-of-type {\n",
       "        vertical-align: middle;\n",
       "    }\n",
       "\n",
       "    .dataframe tbody tr th {\n",
       "        vertical-align: top;\n",
       "    }\n",
       "\n",
       "    .dataframe thead th {\n",
       "        text-align: right;\n",
       "    }\n",
       "</style>\n",
       "<table border=\"1\" class=\"dataframe\">\n",
       "  <thead>\n",
       "    <tr style=\"text-align: right;\">\n",
       "      <th></th>\n",
       "      <th>id</th>\n",
       "      <th>title</th>\n",
       "      <th>magazine_nr</th>\n",
       "      <th>text</th>\n",
       "      <th>link</th>\n",
       "      <th>source</th>\n",
       "      <th>author</th>\n",
       "      <th>department</th>\n",
       "      <th>imgage</th>\n",
       "      <th>image_text</th>\n",
       "      <th>date</th>\n",
       "    </tr>\n",
       "  </thead>\n",
       "  <tbody>\n",
       "    <tr>\n",
       "      <th>0</th>\n",
       "      <td>411</td>\n",
       "      <td>Potrzebna umowa społeczna</td>\n",
       "      <td>10034</td>\n",
       "      <td>Energetyka jest sprawą zbyt poważną, aby decyz...</td>\n",
       "      <td>https://archiwum.rp.pl/artykul/1264814-Potrzeb...</td>\n",
       "      <td>Rzeczpospolita</td>\n",
       "      <td>Radosław Gawlik, Marcin Stoczkiewicz</td>\n",
       "      <td>Ciekawa ekonomia</td>\n",
       "      <td>http://grafik.rp.pl/g4a/1264814,723254,9.jpg</td>\n",
       "      <td>źródło: materiały prasoweRadosław Gawlik</td>\n",
       "      <td>2015-01-08</td>\n",
       "    </tr>\n",
       "    <tr>\n",
       "      <th>1</th>\n",
       "      <td>1691</td>\n",
       "      <td>Promienny lot dookoła świata</td>\n",
       "      <td>10046</td>\n",
       "      <td>Technika | Niezwykły śmigłowy samolot zasilany...</td>\n",
       "      <td>https://archiwum.rp.pl/artykul/1266104-Promien...</td>\n",
       "      <td>Rzeczpospolita</td>\n",
       "      <td>Krzysztof Kowalski</td>\n",
       "      <td>Nauka</td>\n",
       "      <td>http://grafik.rp.pl/g4a/1266104,724227,9.jpg</td>\n",
       "      <td>źródło: Jean RevillardJednoosobowy Solar Impul...</td>\n",
       "      <td>2015-01-22</td>\n",
       "    </tr>\n",
       "    <tr>\n",
       "      <th>2</th>\n",
       "      <td>2906</td>\n",
       "      <td>Dziesięć wyzwań dla Polski</td>\n",
       "      <td>10057</td>\n",
       "      <td>Trzeba zachęcić związki zawodowe do rozmów o n...</td>\n",
       "      <td>https://archiwum.rp.pl/artykul/1267575-Dziesie...</td>\n",
       "      <td>Rzeczpospolita</td>\n",
       "      <td>Marek Goliszewski</td>\n",
       "      <td>Ekonomia</td>\n",
       "      <td>http://grafik.rp.pl/g4a/1267575,725183,9.jpg</td>\n",
       "      <td>źródło: materiały prasowe</td>\n",
       "      <td>2015-02-04</td>\n",
       "    </tr>\n",
       "    <tr>\n",
       "      <th>3</th>\n",
       "      <td>3316</td>\n",
       "      <td>Polska mówi: sprawdzam</td>\n",
       "      <td>10061</td>\n",
       "      <td>Unijna dyplomacja może być dźwignią do realiza...</td>\n",
       "      <td>https://archiwum.rp.pl/artykul/1267949-Polska-...</td>\n",
       "      <td>Rzeczpospolita</td>\n",
       "      <td>Marek Jurek, Jarosław Gowin</td>\n",
       "      <td>Publicystyka, Opinie</td>\n",
       "      <td>http://grafik.rp.pl/g4a/1267949,725508,9.jpg</td>\n",
       "      <td>autor zdjęcia: Dominik Pisarekźródło: Fotorzep...</td>\n",
       "      <td>2015-02-09</td>\n",
       "    </tr>\n",
       "    <tr>\n",
       "      <th>4</th>\n",
       "      <td>5874</td>\n",
       "      <td>Samolot bez paliwa poleciał</td>\n",
       "      <td>10086</td>\n",
       "      <td>Maszyna wystartowała kilkanaście minut po 7 ra...</td>\n",
       "      <td>https://archiwum.rp.pl/artykul/1270552-Samolot...</td>\n",
       "      <td>Rzeczpospolita</td>\n",
       "      <td>Krzysztof Urbański</td>\n",
       "      <td>Nauka</td>\n",
       "      <td>http://grafik.rp.pl/g4a/1270552,727473,9.jpg</td>\n",
       "      <td>źródło: Rzeczpospolita</td>\n",
       "      <td>2015-03-10</td>\n",
       "    </tr>\n",
       "  </tbody>\n",
       "</table>\n",
       "</div>"
      ],
      "text/plain": [
       "     id                         title  magazine_nr  \\\n",
       "0   411     Potrzebna umowa społeczna        10034   \n",
       "1  1691  Promienny lot dookoła świata        10046   \n",
       "2  2906    Dziesięć wyzwań dla Polski        10057   \n",
       "3  3316        Polska mówi: sprawdzam        10061   \n",
       "4  5874   Samolot bez paliwa poleciał        10086   \n",
       "\n",
       "                                                text  \\\n",
       "0  Energetyka jest sprawą zbyt poważną, aby decyz...   \n",
       "1  Technika | Niezwykły śmigłowy samolot zasilany...   \n",
       "2  Trzeba zachęcić związki zawodowe do rozmów o n...   \n",
       "3  Unijna dyplomacja może być dźwignią do realiza...   \n",
       "4  Maszyna wystartowała kilkanaście minut po 7 ra...   \n",
       "\n",
       "                                                link          source  \\\n",
       "0  https://archiwum.rp.pl/artykul/1264814-Potrzeb...  Rzeczpospolita   \n",
       "1  https://archiwum.rp.pl/artykul/1266104-Promien...  Rzeczpospolita   \n",
       "2  https://archiwum.rp.pl/artykul/1267575-Dziesie...  Rzeczpospolita   \n",
       "3  https://archiwum.rp.pl/artykul/1267949-Polska-...  Rzeczpospolita   \n",
       "4  https://archiwum.rp.pl/artykul/1270552-Samolot...  Rzeczpospolita   \n",
       "\n",
       "                                 author              department  \\\n",
       "0  Radosław Gawlik, Marcin Stoczkiewicz        Ciekawa ekonomia   \n",
       "1                    Krzysztof Kowalski                  Nauka    \n",
       "2                     Marek Goliszewski                Ekonomia   \n",
       "3           Marek Jurek, Jarosław Gowin   Publicystyka, Opinie    \n",
       "4                    Krzysztof Urbański                  Nauka    \n",
       "\n",
       "                                         imgage  \\\n",
       "0  http://grafik.rp.pl/g4a/1264814,723254,9.jpg   \n",
       "1  http://grafik.rp.pl/g4a/1266104,724227,9.jpg   \n",
       "2  http://grafik.rp.pl/g4a/1267575,725183,9.jpg   \n",
       "3  http://grafik.rp.pl/g4a/1267949,725508,9.jpg   \n",
       "4  http://grafik.rp.pl/g4a/1270552,727473,9.jpg   \n",
       "\n",
       "                                          image_text       date  \n",
       "0           źródło: materiały prasoweRadosław Gawlik 2015-01-08  \n",
       "1  źródło: Jean RevillardJednoosobowy Solar Impul... 2015-01-22  \n",
       "2                          źródło: materiały prasowe 2015-02-04  \n",
       "3  autor zdjęcia: Dominik Pisarekźródło: Fotorzep... 2015-02-09  \n",
       "4                             źródło: Rzeczpospolita 2015-03-10  "
      ]
     },
     "execution_count": 3,
     "metadata": {},
     "output_type": "execute_result"
    }
   ],
   "source": [
    "data = pd.read_excel('Rzeczpospolita (MNIEJSZY) 2015-2022.xlsx')\n",
    "data.head()"
   ]
  },
  {
   "cell_type": "code",
   "execution_count": 4,
   "metadata": {},
   "outputs": [
    {
     "data": {
      "text/plain": [
       "'Technika | Niezwykły śmigłowy samolot zasilany wyłącznie energią słoneczną okrąży kulę ziemską. Start już w lutym. Maszyna nazywa się Solar Impulse 2, zarejestrowana jest w Szwajcarii, ma numer identyfikacyjny S12. Przeszła pomyślnie kilka lotów testowych, o których informowała „Rzeczpospolita\". Teraz pora na wielki rejs.W jednoosobowym kokpicie na zmianę zasiadać będą Bertrand Piccard, wnuk Augusta Piccarda, wynalazcy m.in. batyskafu, który w 1960 roku pierwszy opuścił się na dno Rowu Mariańskiego, najgłębszego miejsca na ziemi, oraz Andre Borschberg. Obaj są autorami tego projektu.\\xa0 Ekipa naziemna projektu Solar Impulse liczy 80 osób.Nad Himalajami– To wielki moment w dziejach techniki. Po raz pierwszy w historii mamy maszynę, która bez grama paliwa może latać w dzień i w nocy – podkreśla Bertrand Piccard.Maszyna znajduje się teraz w ogromnym namiocie służącym jako hangar na lotnisku Al Bateen w Abu Zabi, stolicy Zjednoczonych Emiratów Arabskich. W najbliższych dniach przewidziane są dwa loty testowe, aby ostatecznie sprawdzić sprawność wszystkich urządzeń. Jeśli wypadną pomyślnie, start do rejsu wokół globu nastąpi 27 lutego, ale może być opóźniony o kilka dni z powodu złej pogody. Powrót do Abu Zabi nastąpi po pięciu miesiącach. W tym czasie przewidziano 25 dób lotu w 12 etapach, w sumie ponad 35 tys. kilometrów.Kokpit maszyny, przystosowany dla jednej osoby, nie jest hermetyczny. Dlatego pilot będzie korzystał z maski tlenowej, jeśli samolot wzniesie się na wysokość kilku kilometrów, na przykład lecąc z Indii do Chin nad Himalajami. Przewidywany pułap to 10 tys. metrów. Kokpit wyłożono pianką termoizolacyjną, co ma zapewnić znośne warunki w temperaturze wahającej się od -40 do +40 st. C.Kabina musi pomieścić zapas jedzenia, wody, tratwę na wypadek wodowania i inny sprzęt ratunkowy. Kokpit nie ma ogrzewania ani klimatyzacji – tyle energii baterie słoneczne nie dostarczą.Solar Impulse 2 nie powinien się przechylać bardziej niż o 5 stopni, ponieważ wtedy\\xa0 baterie słoneczne są dużo mniej wydajne. Piloci pracowali nad tym w symulatorze lotu. Gdyby jednak doszło do takiego przechyłu, na przykład w momencie gdy pilot śpi (lot nad Pacyfikiem będzie trwał pięć dób, 8500 km), włączylyby się automatycznie ostrzegawczy sygnał dźwiękowy. Poza tym w prowadzeniu samolotu pomocny będzie pilot automatyczny.Dłuższe od boeingaTrening pilotów w symulatorze szlifował umiejętność sterowania maszyną, wzmacniał odporność na zmęczenie. Sesje w symulatorze trwające po kilkanaście godzin obejmowały naukę technik medytacyjnych i snu polifazowego. Jeden z programów ćwiczeń zakładał lot pięciodniowy ze snem trwającym dwie godziny na dobę, podzielonym na okresy 20-minutowe.Samolot zbudowany został z włókien węglowych. Skrzydła rozpościerają się na 72 m, o 4 metry więcej niż skrzydła jumbo jeta – boeinga 747. Ale Solar Impulse 2 waży zaledwie jedną setną tego co boeing: 2300 kg – tyle co samochód.\\xa0 Na górnej powierzchni skrzydeł rozmieszczonych jest _x000b_17 tys. ogniw słonecznych, dostarczają energii czterem silnikom elektrycznym, a nadwyżka uzyskiwana za dnia jest magazynowana w akumulatorach litowych. Silniki napędzające śmigła pozwalają osiągnąć prędkość 140 km/h, ale praktycznie będzie to ok. 100 km/h. Aby wystartować, wystarczy prędkość 47 km/h. Solar Impulse 2 to udoskonalona wersja maszyny Solar Impulse, która wzniosła się w powietrze pięć lat temu.– Energia słoneczna, nawet jeśli nie jest energią przyszłości dla lotnictwa, jest do wykorzystania w dziedzinach, które na razie trudno nam sobie wyobrazić. Ale to, co Solar Impulse 2 potrafi osiągnąć w powietrzu, nie zużywać paliwa i nie wytwarzać spalin, można osiągnąć także na ziemi – podkreśla Andre Borschberg.'"
      ]
     },
     "execution_count": 4,
     "metadata": {},
     "output_type": "execute_result"
    }
   ],
   "source": [
    "data.text[1]"
   ]
  },
  {
   "cell_type": "code",
   "execution_count": 5,
   "metadata": {},
   "outputs": [],
   "source": [
    "data_test = data['text']"
   ]
  },
  {
   "cell_type": "code",
   "execution_count": 6,
   "metadata": {},
   "outputs": [],
   "source": [
    "import regex as re\n",
    "from nltk.corpus import stopwords\n",
    "REPLACE_BY_SPACE_RE = re.compile('[/(){}\\[\\]\\|@,;0-9\\.\\-\\'(\\xa0)]')\n",
    "BAD_SYMBOLS_RE = re.compile('[^AaĄąBbCcĆćDdEeĘęFfGgHhIiJjKkLlŁłMmNnŃńOoÓóPpRrSsŚśTtUuWwYyZzŹźŻż ]')\n",
    "STOPWORDS = set(stopwords.words('english'))\n",
    "\n",
    "def clean_text(text):\n",
    "    text = text.lower() # lowercase text\n",
    "    text = REPLACE_BY_SPACE_RE.sub(' ', text) # replace REPLACE_BY_SPACE_RE symbols by space in text\n",
    "    text = BAD_SYMBOLS_RE.sub('', text) # delete symbols which are in BAD_SYMBOLS_RE from text\n",
    "    text = ' '.join(word for word in text.split() if word not in STOPWORDS) # delete stopwors from text\n",
    "    return text\n",
    "    \n",
    "data_test = data_test.apply(clean_text)\n"
   ]
  },
  {
   "cell_type": "code",
   "execution_count": 7,
   "metadata": {},
   "outputs": [],
   "source": [
    "data_test.to_csv('preprocessed.csv')"
   ]
  },
  {
   "cell_type": "code",
   "execution_count": 8,
   "metadata": {},
   "outputs": [
    {
     "data": {
      "text/plain": [
       "'Technika | Niezwykły śmigłowy samolot zasilany wyłącznie energią słoneczną okrąży kulę ziemską. Start już w lutym. Maszyna nazywa się Solar Impulse 2, zarejestrowana jest w Szwajcarii, ma numer identyfikacyjny S12. Przeszła pomyślnie kilka lotów testowych, o których informowała „Rzeczpospolita\". Teraz pora na wielki rejs.W jednoosobowym kokpicie na zmianę zasiadać będą Bertrand Piccard, wnuk Augusta Piccarda, wynalazcy m.in. batyskafu, który w 1960 roku pierwszy opuścił się na dno Rowu Mariańskiego, najgłębszego miejsca na ziemi, oraz Andre Borschberg. Obaj są autorami tego projektu.\\xa0 Ekipa naziemna projektu Solar Impulse liczy 80 osób.Nad Himalajami– To wielki moment w dziejach techniki. Po raz pierwszy w historii mamy maszynę, która bez grama paliwa może latać w dzień i w nocy – podkreśla Bertrand Piccard.Maszyna znajduje się teraz w ogromnym namiocie służącym jako hangar na lotnisku Al Bateen w Abu Zabi, stolicy Zjednoczonych Emiratów Arabskich. W najbliższych dniach przewidziane są dwa loty testowe, aby ostatecznie sprawdzić sprawność wszystkich urządzeń. Jeśli wypadną pomyślnie, start do rejsu wokół globu nastąpi 27 lutego, ale może być opóźniony o kilka dni z powodu złej pogody. Powrót do Abu Zabi nastąpi po pięciu miesiącach. W tym czasie przewidziano 25 dób lotu w 12 etapach, w sumie ponad 35 tys. kilometrów.Kokpit maszyny, przystosowany dla jednej osoby, nie jest hermetyczny. Dlatego pilot będzie korzystał z maski tlenowej, jeśli samolot wzniesie się na wysokość kilku kilometrów, na przykład lecąc z Indii do Chin nad Himalajami. Przewidywany pułap to 10 tys. metrów. Kokpit wyłożono pianką termoizolacyjną, co ma zapewnić znośne warunki w temperaturze wahającej się od -40 do +40 st. C.Kabina musi pomieścić zapas jedzenia, wody, tratwę na wypadek wodowania i inny sprzęt ratunkowy. Kokpit nie ma ogrzewania ani klimatyzacji – tyle energii baterie słoneczne nie dostarczą.Solar Impulse 2 nie powinien się przechylać bardziej niż o 5 stopni, ponieważ wtedy\\xa0 baterie słoneczne są dużo mniej wydajne. Piloci pracowali nad tym w symulatorze lotu. Gdyby jednak doszło do takiego przechyłu, na przykład w momencie gdy pilot śpi (lot nad Pacyfikiem będzie trwał pięć dób, 8500 km), włączylyby się automatycznie ostrzegawczy sygnał dźwiękowy. Poza tym w prowadzeniu samolotu pomocny będzie pilot automatyczny.Dłuższe od boeingaTrening pilotów w symulatorze szlifował umiejętność sterowania maszyną, wzmacniał odporność na zmęczenie. Sesje w symulatorze trwające po kilkanaście godzin obejmowały naukę technik medytacyjnych i snu polifazowego. Jeden z programów ćwiczeń zakładał lot pięciodniowy ze snem trwającym dwie godziny na dobę, podzielonym na okresy 20-minutowe.Samolot zbudowany został z włókien węglowych. Skrzydła rozpościerają się na 72 m, o 4 metry więcej niż skrzydła jumbo jeta – boeinga 747. Ale Solar Impulse 2 waży zaledwie jedną setną tego co boeing: 2300 kg – tyle co samochód.\\xa0 Na górnej powierzchni skrzydeł rozmieszczonych jest _x000b_17 tys. ogniw słonecznych, dostarczają energii czterem silnikom elektrycznym, a nadwyżka uzyskiwana za dnia jest magazynowana w akumulatorach litowych. Silniki napędzające śmigła pozwalają osiągnąć prędkość 140 km/h, ale praktycznie będzie to ok. 100 km/h. Aby wystartować, wystarczy prędkość 47 km/h. Solar Impulse 2 to udoskonalona wersja maszyny Solar Impulse, która wzniosła się w powietrze pięć lat temu.– Energia słoneczna, nawet jeśli nie jest energią przyszłości dla lotnictwa, jest do wykorzystania w dziedzinach, które na razie trudno nam sobie wyobrazić. Ale to, co Solar Impulse 2 potrafi osiągnąć w powietrzu, nie zużywać paliwa i nie wytwarzać spalin, można osiągnąć także na ziemi – podkreśla Andre Borschberg.'"
      ]
     },
     "execution_count": 8,
     "metadata": {},
     "output_type": "execute_result"
    }
   ],
   "source": [
    "data['text'][1]"
   ]
  },
  {
   "cell_type": "code",
   "execution_count": 9,
   "metadata": {},
   "outputs": [
    {
     "data": {
      "text/plain": [
       "'technika niezwykły śmigłowy samolot zasilany wyłącznie energią słoneczną okrąży kulę ziemską start już w lutym maszyna nazywa się solar impulse zarejestrowana jest w szwajcarii numer identyfikacyjny przeszła pomyślnie kilka lotów testowych których informowała rzeczpospolita teraz pora na wielki rejs w jednoosobowym kokpicie na zmianę zasiadać będą bertrand piccard wnuk augusta piccarda wynalazcy batyskafu który w roku pierwszy opuścił się na dno rowu mariańskiego najgłębszego miejsca na ziemi oraz andre borschberg obaj są autorami tego projektu ekipa naziemna projektu solar impulse liczy osób nad himalajami wielki moment w dziejach techniki po raz pierwszy w historii mamy maszynę która bez grama paliwa może latać w dzień w nocy podkreśla bertrand piccard maszyna znajduje się teraz w ogromnym namiocie służącym jako hangar na lotnisku al bateen w abu zabi stolicy zjednoczonych emiratów arabskich w najbliższych dniach przewidziane są dwa loty testowe aby ostatecznie sprawdzić sprawność wszystkich urządzeń jeśli wypadną pomyślnie start rejsu wokół globu nastąpi lutego ale może być opóźniony kilka dni z powodu złej pogody powrót abu zabi nastąpi po pięciu miesiącach w tym czasie przewidziano dób lotu w etapach w sumie ponad tys kilometrów kokpit maszyny przystosowany dla jednej osoby nie jest hermetyczny dlatego pilot będzie korzystał z maski tlenowej jeśli samolot wzniesie się na wysokość kilku kilometrów na przykład lecąc z indii chin nad himalajami przewidywany pułap tys metrów kokpit wyłożono pianką termoizolacyjną co zapewnić znośne warunki w temperaturze wahającej się od st c kabina musi pomieścić zapas jedzenia wody tratwę na wypadek wodowania inny sprzęt ratunkowy kokpit nie ogrzewania ani klimatyzacji tyle energii baterie słoneczne nie dostarczą solar impulse nie powinien się przechylać bardziej niż stopni ponieważ wtedy baterie słoneczne są dużo mniej wydajne piloci pracowali nad tym w symulatorze lotu gdyby jednak doszło takiego przechyłu na przykład w momencie gdy pilot śpi lot nad pacyfikiem będzie trwał pięć dób km włączylyby się automatycznie ostrzegawczy sygnał dźwiękowy poza tym w prowadzeniu samolotu pomocny będzie pilot automatyczny dłuższe od boeingatrening pilotów w symulatorze szlifował umiejętność sterowania maszyną wzmacniał odporność na zmęczenie sesje w symulatorze trwające po kilkanaście godzin obejmowały naukę technik medytacyjnych snu polifazowego jeden z programów ćwiczeń zakładał lot pięciodniowy ze snem trwającym dwie godziny na dobę podzielonym na okresy minutowe samolot zbudowany został z włókien węglowych skrzydła rozpościerają się na metry więcej niż skrzydła jumbo jeta boeinga ale solar impulse waży zaledwie jedną setną tego co boeing kg tyle co samochód na górnej powierzchni skrzydeł rozmieszczonych jest b tys ogniw słonecznych dostarczają energii czterem silnikom elektrycznym nadwyżka uzyskiwana za dnia jest magazynowana w akumulatorach litowych silniki napędzające śmigła pozwalają osiągnąć prędkość km h ale praktycznie będzie ok km h aby wystartować wystarczy prędkość km h solar impulse udoskonalona wersja maszyny solar impulse która wzniosła się w powietrze pięć lat temu energia słoneczna nawet jeśli nie jest energią przyszłości dla lotnictwa jest wykorzystania w dziedzinach które na razie trudno nam sobie wyobrazić ale co solar impulse potrafi osiągnąć w powietrzu nie zużywać paliwa nie wytwarzać spalin można osiągnąć także na ziemi podkreśla andre borschberg'"
      ]
     },
     "execution_count": 9,
     "metadata": {},
     "output_type": "execute_result"
    }
   ],
   "source": [
    "data_test[1]"
   ]
  },
  {
   "cell_type": "code",
   "execution_count": null,
   "metadata": {},
   "outputs": [],
   "source": []
  }
 ],
 "metadata": {
  "kernelspec": {
   "display_name": "tf",
   "language": "python",
   "name": "python3"
  },
  "language_info": {
   "codemirror_mode": {
    "name": "ipython",
    "version": 3
   },
   "file_extension": ".py",
   "mimetype": "text/x-python",
   "name": "python",
   "nbconvert_exporter": "python",
   "pygments_lexer": "ipython3",
   "version": "3.9.16"
  },
  "orig_nbformat": 4,
  "vscode": {
   "interpreter": {
    "hash": "3a2be30295172717884411af564ad630433b1e83c9c4d3e12b02d716b3136821"
   }
  }
 },
 "nbformat": 4,
 "nbformat_minor": 2
}
