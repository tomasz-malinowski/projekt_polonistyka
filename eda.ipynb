{
 "cells": [
  {
   "cell_type": "code",
   "execution_count": 30,
   "metadata": {},
   "outputs": [],
   "source": [
    "import pandas as pd\n",
    "import numpy as np\n",
    "import matplotlib.pyplot as plt\n"
   ]
  },
  {
   "cell_type": "code",
   "execution_count": 31,
   "metadata": {
    "scrolled": true
   },
   "outputs": [
    {
     "name": "stdout",
     "output_type": "stream",
     "text": [
      " Volume in drive C is OS\n",
      " Volume Serial Number is B68C-E808\n",
      "\n",
      " Directory of C:\\Users\\tomek\\projekt_polonistyka\\Rzeczpospolita 2015-2022\n",
      "\n",
      "03.05.2023  23:15    <DIR>          .\n",
      "03.05.2023  23:15    <DIR>          ..\n",
      "03.05.2023  23:15        22˙355˙456 all_preprocessed.csv\n",
      "03.05.2023  23:10        22˙317˙038 preprocessed.csv\n",
      "27.04.2023  08:32         9˙460˙916 Rzeczpospolita (MNIEJSZY) 2015-2022.xlsx\n",
      "27.04.2023  08:21       470˙819˙104 Rzeczpospolita 2015-2022.xlsx\n",
      "               4 File(s)    524˙952˙514 bytes\n",
      "               2 Dir(s)  23˙297˙421˙312 bytes free\n"
     ]
    }
   ],
   "source": [
    "ls"
   ]
  },
  {
   "cell_type": "code",
   "execution_count": 47,
   "metadata": {},
   "outputs": [
    {
     "data": {
      "text/html": [
       "<div>\n",
       "<style scoped>\n",
       "    .dataframe tbody tr th:only-of-type {\n",
       "        vertical-align: middle;\n",
       "    }\n",
       "\n",
       "    .dataframe tbody tr th {\n",
       "        vertical-align: top;\n",
       "    }\n",
       "\n",
       "    .dataframe thead th {\n",
       "        text-align: right;\n",
       "    }\n",
       "</style>\n",
       "<table border=\"1\" class=\"dataframe\">\n",
       "  <thead>\n",
       "    <tr style=\"text-align: right;\">\n",
       "      <th></th>\n",
       "      <th>Unnamed: 0</th>\n",
       "      <th>text</th>\n",
       "    </tr>\n",
       "  </thead>\n",
       "  <tbody>\n",
       "    <tr>\n",
       "      <th>0</th>\n",
       "      <td>0</td>\n",
       "      <td>energetyka jest sprawą zbyt poważną aby decyzj...</td>\n",
       "    </tr>\n",
       "    <tr>\n",
       "      <th>1</th>\n",
       "      <td>1</td>\n",
       "      <td>technika niezwykły śmigłowy samolot zasilany w...</td>\n",
       "    </tr>\n",
       "    <tr>\n",
       "      <th>2</th>\n",
       "      <td>2</td>\n",
       "      <td>trzeba zachęcić związki zawodowe rozmów nowym ...</td>\n",
       "    </tr>\n",
       "    <tr>\n",
       "      <th>3</th>\n",
       "      <td>3</td>\n",
       "      <td>unijna dyplomacja może być dźwignią realizacji...</td>\n",
       "    </tr>\n",
       "    <tr>\n",
       "      <th>4</th>\n",
       "      <td>4</td>\n",
       "      <td>maszyna wystartowała kilkanaście minut po rano...</td>\n",
       "    </tr>\n",
       "  </tbody>\n",
       "</table>\n",
       "</div>"
      ],
      "text/plain": [
       "   Unnamed: 0                                               text\n",
       "0           0  energetyka jest sprawą zbyt poważną aby decyzj...\n",
       "1           1  technika niezwykły śmigłowy samolot zasilany w...\n",
       "2           2  trzeba zachęcić związki zawodowe rozmów nowym ...\n",
       "3           3  unijna dyplomacja może być dźwignią realizacji...\n",
       "4           4  maszyna wystartowała kilkanaście minut po rano..."
      ]
     },
     "execution_count": 47,
     "metadata": {},
     "output_type": "execute_result"
    }
   ],
   "source": [
    "data = pd.read_csv('preprocessed.csv')\n",
    "data.head()"
   ]
  },
  {
   "cell_type": "code",
   "execution_count": 33,
   "metadata": {},
   "outputs": [],
   "source": [
    "data['len'] = data['text'].apply(lambda x: len(x.split(' ')))\n"
   ]
  },
  {
   "cell_type": "code",
   "execution_count": 34,
   "metadata": {},
   "outputs": [],
   "source": [
    "import regex as re\n",
    "\n",
    "def classify(article):\n",
    "    patterns = ['ekolog', 'ocieplen', 'środowisk', 'klimat', 'przyrod', 'węg', 'elektr', 'energ', 'cieplar', 'IPCC','efekt cieplar']\n",
    "    match = 0\n",
    "    for pattern in patterns:\n",
    "       match += len(re.findall(pattern, article))\n",
    "\n",
    "    if match != 0:\n",
    "        return 1\n",
    "    else:\n",
    "        return 0"
   ]
  },
  {
   "cell_type": "code",
   "execution_count": 35,
   "metadata": {},
   "outputs": [],
   "source": [
    "data['class'] = data['text'].apply(classify)"
   ]
  },
  {
   "cell_type": "code",
   "execution_count": 36,
   "metadata": {},
   "outputs": [
    {
     "data": {
      "text/plain": [
       "0       energetyka jest sprawą zbyt poważną aby decyzj...\n",
       "1       technika niezwykły śmigłowy samolot zasilany w...\n",
       "2       trzeba zachęcić związki zawodowe rozmów nowym ...\n",
       "3       unijna dyplomacja może być dźwignią realizacji...\n",
       "4       maszyna wystartowała kilkanaście minut po rano...\n",
       "                              ...                        \n",
       "3508    renesans energetyki jądrowej jest faktem dosta...\n",
       "3509    gdyby zliczyć wszystkie konferencje międzynaro...\n",
       "3510    badania opinii społecznej nie pozostawiają wąt...\n",
       "3511    polska scena polityczna wydaje się zacementowa...\n",
       "3512    ochrona lasów może podwyższyć ceny różnych pro...\n",
       "Name: text, Length: 3513, dtype: object"
      ]
     },
     "execution_count": 36,
     "metadata": {},
     "output_type": "execute_result"
    }
   ],
   "source": [
    "data['text']"
   ]
  },
  {
   "cell_type": "code",
   "execution_count": 37,
   "metadata": {},
   "outputs": [
    {
     "data": {
      "text/plain": [
       "<Axes: xlabel='len', ylabel='Count'>"
      ]
     },
     "execution_count": 37,
     "metadata": {},
     "output_type": "execute_result"
    },
    {
     "data": {
      "image/png": "[encoded data removed]",
      "text/plain": [
       "<Figure size 640x480 with 1 Axes>"
      ]
     },
     "metadata": {},
     "output_type": "display_data"
    }
   ],
   "source": [
    "import seaborn as sns\n",
    "\n",
    "sns.histplot(data=data, x='len',kde=True,hue='class')\n"
   ]
  },
  {
   "cell_type": "code",
   "execution_count": 27,
   "metadata": {},
   "outputs": [
    {
     "name": "stdout",
     "output_type": "stream",
     "text": [
      "Potentially interesting 3428\n",
      "Rather boring 85\n"
     ]
    }
   ],
   "source": [
    "print('Potentially interesting ' + str(len(data[data['class'] == 1])))\n",
    "print('Rather boring ' + str(len(data[data['class'] == 0])))"
   ]
  },
  {
   "cell_type": "code",
   "execution_count": 28,
   "metadata": {},
   "outputs": [],
   "source": [
    "data.to_csv('all_preprocessed.csv')"
   ]
  },
  {
   "cell_type": "code",
   "execution_count": null,
   "metadata": {},
   "outputs": [],
   "source": []
  },
  {
   "cell_type": "code",
   "execution_count": null,
   "metadata": {},
   "outputs": [],
   "source": []
  }
 ],
 "metadata": {
  "kernelspec": {
   "display_name": "Python 3 (ipykernel)",
   "language": "python",
   "name": "python3"
  },
  "language_info": {
   "codemirror_mode": {
    "name": "ipython",
    "version": 3
   },
   "file_extension": ".py",
   "mimetype": "text/x-python",
   "name": "python",
   "nbconvert_exporter": "python",
   "pygments_lexer": "ipython3",
   "version": "3.9.16"
  },
  "vscode": {
   "interpreter": {
    "hash": "3a2be30295172717884411af564ad630433b1e83c9c4d3e12b02d716b3136821"
   }
  }
 },
 "nbformat": 4,
 "nbformat_minor": 2
}
